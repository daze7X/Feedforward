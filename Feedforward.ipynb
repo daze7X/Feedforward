{
 "cells": [
  {
   "cell_type": "code",
   "execution_count": 58,
   "id": "8b19783c-e6d1-413d-8d43-490d3cdab67c",
   "metadata": {},
   "outputs": [],
   "source": [
    "import numpy as np# Mengimpor seluruh library NumPy dengan alias 'np'\n",
    "from numpy import loadtxt# Mengimpor fungsi loadtxt secara langsung dari NumPy"
   ]
  },
  {
   "cell_type": "code",
   "execution_count": 59,
   "id": "4e22eadb-a5b7-4da0-8098-e40e72505baf",
   "metadata": {},
   "outputs": [],
   "source": [
    "dataset = loadtxt('diabetes-dataset.csv', delimiter=',')# Menggunakan fungsi loadtxt untuk memuat dataset dari file CSV\n",
    "# 'diabetes-dataset.csv' adalah nama file dan ',' adalah delimiter untuk pemisahan kolom\n",
    "\n",
    "# Mengambil bagian input (fitur) dari dataset, yaitu kolom 0 hingga 7 (8 fitur)\n",
    "X = dataset[:, 0:8]# Memilih kolom 0 hingga 7 sebagai fitur\n",
    "y = dataset[:, 8]# Memilih kolom ke-8 sebagai target (label)\n",
    "\n",
    "# Melakukan transpose pada X untuk mengubah dimensi menjadi (8, 768) untuk kompatibilitas jaringan\n",
    "X = X.T  # (8, 768) # X sekarang memiliki dimensi 8x768, di mana 8 adalah jumlah fitur dan 768 adalah jumlah sampel\n",
    "# Melakukan reshape pada y agar memiliki dimensi (768, 1) dan kemudian mentranspose menjadi (1, 768)\n",
    "y = y.reshape((768, 1))  # (768, 1) # Mengubah y menjadi array dengan dimensi 768x1\n",
    "y = y.T  # (1, 768)# y sekarang memiliki dimensi 1x768, sesuai dengan format yang dibutuhkan oleh jaringan"
   ]
  },
  {
   "cell_type": "code",
   "execution_count": 60,
   "id": "012eb8d0-68b0-41b5-ac4d-607dce4e6d1c",
   "metadata": {},
   "outputs": [],
   "source": [
    "# Bobot dan bias\n",
    "w1 = np.random.rand(10, 8)  # Hidden layer 1: 10 neuron, input layer: 8 fitur\n",
    "b1 = np.zeros((10, 1))      # Bias untuk 10 neuron di hidden layer 1\n",
    "\n",
    "w2 = np.random.rand(4, 10)  # Hidden layer 2: 4 neuron, input dari 10 neuron di layer 1\n",
    "b2 = np.zeros((4, 1))       # Bias untuk 4 neuron di hidden layer 2\n",
    "\n",
    "w3 = np.random.rand(1, 4)   # Output layer: 1 neuron, input dari 4 neuron di layer 2\n",
    "b3 = np.zeros((1, 1))       # Bias untuk 1 neuron di output layer"
   ]
  },
  {
   "cell_type": "code",
   "execution_count": 61,
   "id": "80e782a5-c568-499a-b3f0-e7b6c495cb12",
   "metadata": {},
   "outputs": [],
   "source": [
    "# Definisi fungsi sigmoid\n",
    "def sigmoid(z):\n",
    "    a = 1/(1+np.exp(-z))# Rumus fungsi sigmoid: 1 / (1 + exp(-z))\n",
    "    return a # Mengembalikan hasil dari fungsi sigmoid"
   ]
  },
  {
   "cell_type": "code",
   "execution_count": 62,
   "id": "900e24a3-c7d4-4cd8-8b18-38f3ab4f467e",
   "metadata": {},
   "outputs": [],
   "source": [
    "# a0 adalah input, yang sebelumnya telah diproses dan ditranspose\n",
    "a0=X\n",
    "\n",
    "# Menghitung hasil dari layer 1 (input ke hidden layer 1)\n",
    "z1=np.dot(w1,a0)+b1# Perkalian matriks antara bobot w1 dan input a0, kemudian menambahkan bias b1\n",
    "a1=sigmoid(z1)# Aktivasi hasil z1 menggunakan fungsi sigmoid\n",
    "\n",
    "# Menghitung hasil dari layer 2 (hidden layer 1 ke hidden layer 2)\n",
    "z2=np.dot(w2,a1)+b2 # Perkalian matriks antara bobot w2 dan output a1 dari layer sebelumnya\n",
    "a2=sigmoid(z2) # Aktivasi hasil z2 menggunakan fungsi sigmoid\n",
    "\n",
    "# Menghitung hasil dari layer 3 (hidden layer 2 ke output layer)\n",
    "z3=np.dot(w3,a2)+b3 # Perkalian matriks antara bobot w3 dan output a2 dari layer sebelumnya\n",
    "a3=sigmoid(z3) # Aktivasi hasil z3 menggunakan fungsi sigmoid\n",
    "\n",
    "# yhat adalah prediksi model, yang dihasilkan dari output layer\n",
    "yhat = a3# Output layer terakhir adalah prediksi\n",
    "\n",
    "# Menghitung Binary Cross-Entropy Loss (log loss)\n",
    "L = -y * np.log(yhat) - (1 - y) * np.log(1 - yhat)# Rumus Binary Cross-Entropy Loss"
   ]
  },
  {
   "cell_type": "code",
   "execution_count": 63,
   "id": "ddb3c50c-4074-4d4f-b39a-e7e02003efe5",
   "metadata": {},
   "outputs": [],
   "source": [
    "J = 1/768*np.sum(L)"
   ]
  },
  {
   "cell_type": "code",
   "execution_count": 64,
   "id": "9a25a7eb-0743-45f2-bfd3-6814dce4a3b6",
   "metadata": {},
   "outputs": [
    {
     "data": {
      "text/plain": [
       "np.float64(1.7209183114365287)"
      ]
     },
     "execution_count": 64,
     "metadata": {},
     "output_type": "execute_result"
    }
   ],
   "source": [
    "J"
   ]
  },
  {
   "cell_type": "code",
   "execution_count": null,
   "id": "f27bb944-1dd1-4bb1-94ad-0afdadec49c2",
   "metadata": {},
   "outputs": [],
   "source": []
  }
 ],
 "metadata": {
  "kernelspec": {
   "display_name": "Python 3 (ipykernel)",
   "language": "python",
   "name": "python3"
  },
  "language_info": {
   "codemirror_mode": {
    "name": "ipython",
    "version": 3
   },
   "file_extension": ".py",
   "mimetype": "text/x-python",
   "name": "python",
   "nbconvert_exporter": "python",
   "pygments_lexer": "ipython3",
   "version": "3.12.6"
  }
 },
 "nbformat": 4,
 "nbformat_minor": 5
}
